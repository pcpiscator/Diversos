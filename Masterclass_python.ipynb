{
  "nbformat": 4,
  "nbformat_minor": 0,
  "metadata": {
    "colab": {
      "provenance": [],
      "authorship_tag": "ABX9TyO9lvMqTbAcf7eKwwQym+XF",
      "include_colab_link": true
    },
    "kernelspec": {
      "name": "python3",
      "display_name": "Python 3"
    },
    "language_info": {
      "name": "python"
    }
  },
  "cells": [
    {
      "cell_type": "markdown",
      "metadata": {
        "id": "view-in-github",
        "colab_type": "text"
      },
      "source": [
        "<a href=\"https://colab.research.google.com/github/pcpiscator/Diversos/blob/main/Masterclass_python.ipynb\" target=\"_parent\"><img src=\"https://colab.research.google.com/assets/colab-badge.svg\" alt=\"Open In Colab\"/></a>"
      ]
    },
    {
      "cell_type": "markdown",
      "source": [
        "# **Operações matemáticas**"
      ],
      "metadata": {
        "id": "RWOAZcoUCKo-"
      }
    },
    {
      "cell_type": "code",
      "execution_count": 1,
      "metadata": {
        "colab": {
          "base_uri": "https://localhost:8080/"
        },
        "id": "pThCfc5g9HDl",
        "outputId": "c2def6cc-1c13-4fed-ccfb-fea9bfbed54f"
      },
      "outputs": [
        {
          "output_type": "execute_result",
          "data": {
            "text/plain": [
              "9"
            ]
          },
          "metadata": {},
          "execution_count": 1
        }
      ],
      "source": [
        "2+7"
      ]
    },
    {
      "cell_type": "code",
      "source": [
        "9-5"
      ],
      "metadata": {
        "colab": {
          "base_uri": "https://localhost:8080/"
        },
        "id": "d0NB8FdtB4Eh",
        "outputId": "582f4fbe-9fdb-4810-ee0a-2099159b059c"
      },
      "execution_count": 2,
      "outputs": [
        {
          "output_type": "execute_result",
          "data": {
            "text/plain": [
              "4"
            ]
          },
          "metadata": {},
          "execution_count": 2
        }
      ]
    },
    {
      "cell_type": "code",
      "source": [
        "7*5"
      ],
      "metadata": {
        "colab": {
          "base_uri": "https://localhost:8080/"
        },
        "id": "aY4oHPbNCIqU",
        "outputId": "e4e36c24-e62f-4909-a4f6-a21a040bd9da"
      },
      "execution_count": 3,
      "outputs": [
        {
          "output_type": "execute_result",
          "data": {
            "text/plain": [
              "35"
            ]
          },
          "metadata": {},
          "execution_count": 3
        }
      ]
    },
    {
      "cell_type": "code",
      "source": [
        "9/3"
      ],
      "metadata": {
        "colab": {
          "base_uri": "https://localhost:8080/"
        },
        "id": "ok0SdM5TCsjY",
        "outputId": "e03f665e-3066-4219-8d97-de0779cb09d8"
      },
      "execution_count": 4,
      "outputs": [
        {
          "output_type": "execute_result",
          "data": {
            "text/plain": [
              "3.0"
            ]
          },
          "metadata": {},
          "execution_count": 4
        }
      ]
    },
    {
      "cell_type": "code",
      "source": [
        "9/2"
      ],
      "metadata": {
        "colab": {
          "base_uri": "https://localhost:8080/"
        },
        "id": "-zroqSKSDU5c",
        "outputId": "7712c08f-2db9-47b7-f5a7-5e46ee216060"
      },
      "execution_count": 5,
      "outputs": [
        {
          "output_type": "execute_result",
          "data": {
            "text/plain": [
              "4.5"
            ]
          },
          "metadata": {},
          "execution_count": 5
        }
      ]
    },
    {
      "cell_type": "code",
      "source": [
        "Prim_op = 2+6"
      ],
      "metadata": {
        "id": "p2tqoYEbEi9p"
      },
      "execution_count": 8,
      "outputs": []
    },
    {
      "cell_type": "code",
      "source": [
        "seg_op = 8-5"
      ],
      "metadata": {
        "id": "WOHTiGzpErfv"
      },
      "execution_count": 9,
      "outputs": []
    },
    {
      "cell_type": "code",
      "source": [
        "(Prim_op)*(seg_op)\n"
      ],
      "metadata": {
        "colab": {
          "base_uri": "https://localhost:8080/"
        },
        "id": "oeyOierEFBHD",
        "outputId": "13a69ea0-1f9f-4a45-8c18-8e2ef2f5faaa"
      },
      "execution_count": 10,
      "outputs": [
        {
          "output_type": "execute_result",
          "data": {
            "text/plain": [
              "24"
            ]
          },
          "metadata": {},
          "execution_count": 10
        }
      ]
    },
    {
      "cell_type": "code",
      "source": [
        "Prim_op = 2258+6354\n"
      ],
      "metadata": {
        "id": "j4BjQKhHFt4Q"
      },
      "execution_count": 11,
      "outputs": []
    },
    {
      "cell_type": "code",
      "source": [
        "print(Prim_op)"
      ],
      "metadata": {
        "colab": {
          "base_uri": "https://localhost:8080/"
        },
        "id": "6NQmSSUqF8u1",
        "outputId": "8d8c6ff6-9ce3-4f1d-977f-f8a76208e77b"
      },
      "execution_count": 12,
      "outputs": [
        {
          "output_type": "stream",
          "name": "stdout",
          "text": [
            "8612\n"
          ]
        }
      ]
    },
    {
      "cell_type": "code",
      "source": [
        "print(seg_op)"
      ],
      "metadata": {
        "colab": {
          "base_uri": "https://localhost:8080/"
        },
        "id": "ljUCUrtgGZJ4",
        "outputId": "a9514fd8-1b69-4580-ab2d-071806d66ee6"
      },
      "execution_count": 13,
      "outputs": [
        {
          "output_type": "stream",
          "name": "stdout",
          "text": [
            "3\n"
          ]
        }
      ]
    },
    {
      "cell_type": "code",
      "source": [
        "(Prim_op)*(seg_op)"
      ],
      "metadata": {
        "colab": {
          "base_uri": "https://localhost:8080/"
        },
        "id": "xI65Ob6OGoAh",
        "outputId": "a37b9f77-a9ac-4c3a-9f41-4cc30990fe8d"
      },
      "execution_count": 14,
      "outputs": [
        {
          "output_type": "execute_result",
          "data": {
            "text/plain": [
              "25836"
            ]
          },
          "metadata": {},
          "execution_count": 14
        }
      ]
    },
    {
      "cell_type": "code",
      "source": [
        "print('Olá mundo!')"
      ],
      "metadata": {
        "colab": {
          "base_uri": "https://localhost:8080/"
        },
        "id": "wOtIyziDHmX3",
        "outputId": "a6b988a8-e7f8-4760-9cda-c6fd286cbd5c"
      },
      "execution_count": 15,
      "outputs": [
        {
          "output_type": "stream",
          "name": "stdout",
          "text": [
            "Olá mundo!\n"
          ]
        }
      ]
    },
    {
      "cell_type": "code",
      "source": [
        "mult=(Prim_op)*(seg_op)"
      ],
      "metadata": {
        "id": "CVHyzif6IE4l"
      },
      "execution_count": 16,
      "outputs": []
    },
    {
      "cell_type": "code",
      "source": [
        "print(mult)"
      ],
      "metadata": {
        "colab": {
          "base_uri": "https://localhost:8080/"
        },
        "id": "JYsJiHRzISHc",
        "outputId": "88e100af-4a13-42fe-9f58-8012669f99cb"
      },
      "execution_count": 17,
      "outputs": [
        {
          "output_type": "stream",
          "name": "stdout",
          "text": [
            "25836\n"
          ]
        }
      ]
    },
    {
      "cell_type": "code",
      "source": [
        "print('O resultado da multiplicação é:',mult)"
      ],
      "metadata": {
        "colab": {
          "base_uri": "https://localhost:8080/"
        },
        "id": "rY_uyiciIqZr",
        "outputId": "d5dc07c2-76d2-4043-e4b5-639db68b9f69"
      },
      "execution_count": 19,
      "outputs": [
        {
          "output_type": "stream",
          "name": "stdout",
          "text": [
            "O resultado da multiplicação é: 25836\n"
          ]
        }
      ]
    },
    {
      "cell_type": "code",
      "source": [
        "print(f'O resultado da multiplicação é:{mult}')"
      ],
      "metadata": {
        "colab": {
          "base_uri": "https://localhost:8080/"
        },
        "id": "6mwRNiwJJmqj",
        "outputId": "a03b6b80-8c0b-4647-a47e-3830881bc16c"
      },
      "execution_count": 20,
      "outputs": [
        {
          "output_type": "stream",
          "name": "stdout",
          "text": [
            "O resultado da multiplicação é:25836\n"
          ]
        }
      ]
    },
    {
      "cell_type": "code",
      "source": [
        "expo = 2**3\n",
        "print(expo)"
      ],
      "metadata": {
        "colab": {
          "base_uri": "https://localhost:8080/"
        },
        "id": "bIGPVMOuLPk-",
        "outputId": "6575db60-39a9-43f9-e0a6-707cb0393d91"
      },
      "execution_count": 21,
      "outputs": [
        {
          "output_type": "stream",
          "name": "stdout",
          "text": [
            "8\n"
          ]
        }
      ]
    },
    {
      "cell_type": "code",
      "source": [
        "nome1= input('Digite seu nome: ')"
      ],
      "metadata": {
        "colab": {
          "base_uri": "https://localhost:8080/"
        },
        "id": "PIzzuXY-qhr9",
        "outputId": "924260a0-aeb4-4e2e-e331-dd27bc8ce7cb"
      },
      "execution_count": 3,
      "outputs": [
        {
          "name": "stdout",
          "output_type": "stream",
          "text": [
            "Digite seu nome: Piá do djanho\n"
          ]
        }
      ]
    },
    {
      "cell_type": "code",
      "source": [
        "print(nome1)"
      ],
      "metadata": {
        "colab": {
          "base_uri": "https://localhost:8080/"
        },
        "id": "6RdhRK-5rwCQ",
        "outputId": "a82f7e6b-894b-409a-91ed-4b91204c9893"
      },
      "execution_count": 5,
      "outputs": [
        {
          "output_type": "stream",
          "name": "stdout",
          "text": [
            "Piá do djanho\n"
          ]
        }
      ]
    },
    {
      "cell_type": "code",
      "source": [
        "idade1=input('Digite sua idade: ')"
      ],
      "metadata": {
        "colab": {
          "base_uri": "https://localhost:8080/"
        },
        "id": "PBgVYT2br_Sq",
        "outputId": "d1983d12-1911-44ff-eaca-0a8303bb2e0b"
      },
      "execution_count": 23,
      "outputs": [
        {
          "name": "stdout",
          "output_type": "stream",
          "text": [
            "Digite sua idade: 19\n"
          ]
        }
      ]
    },
    {
      "cell_type": "code",
      "source": [
        "if int(idade1) >= 18:\n",
        "  print('Você é maior de idade')\n",
        "else:\n",
        "  print('Você é menor de idade')"
      ],
      "metadata": {
        "colab": {
          "base_uri": "https://localhost:8080/"
        },
        "id": "XHGM-r9Ntv8w",
        "outputId": "3786fa57-365d-4d40-b8f7-8876c434d138"
      },
      "execution_count": 24,
      "outputs": [
        {
          "output_type": "stream",
          "name": "stdout",
          "text": [
            "Você é maior de idade\n"
          ]
        }
      ]
    },
    {
      "cell_type": "code",
      "source": [
        "def ver_id (idade):\n",
        "  if int(idade) >= 18:\n",
        "    print('Você é maior de idade')\n",
        "  else:\n",
        "    print('Você é menor de idade')"
      ],
      "metadata": {
        "id": "QP872siTu3R0"
      },
      "execution_count": 21,
      "outputs": []
    },
    {
      "cell_type": "code",
      "source": [
        "ver_id(17)"
      ],
      "metadata": {
        "colab": {
          "base_uri": "https://localhost:8080/"
        },
        "id": "YG1cih2swdO4",
        "outputId": "5f32a9a5-9798-45c6-8682-4c329813ecc2"
      },
      "execution_count": 27,
      "outputs": [
        {
          "output_type": "stream",
          "name": "stdout",
          "text": [
            "Você é menor de idade\n"
          ]
        }
      ]
    },
    {
      "cell_type": "code",
      "source": [
        "contador=0"
      ],
      "metadata": {
        "id": "qJCJSZ10ywhf"
      },
      "execution_count": 39,
      "outputs": []
    },
    {
      "cell_type": "code",
      "source": [
        "contador=0\n",
        "while contador < 5:\n",
        "  print(contador)\n",
        "  contador = contador + 1\n",
        "print('Fim da contagem')"
      ],
      "metadata": {
        "colab": {
          "base_uri": "https://localhost:8080/"
        },
        "id": "UISo33Gby3Hs",
        "outputId": "0d499f94-3493-409c-ab75-3fcaa760d493"
      },
      "execution_count": 42,
      "outputs": [
        {
          "output_type": "stream",
          "name": "stdout",
          "text": [
            "0\n",
            "1\n",
            "2\n",
            "3\n",
            "4\n",
            "Fim da contagem\n"
          ]
        }
      ]
    },
    {
      "cell_type": "code",
      "source": [
        "modelos=['2.0 flash', '2.5 pro', '2.5 flash']"
      ],
      "metadata": {
        "id": "CkpzY6nb1RTz"
      },
      "execution_count": 43,
      "outputs": []
    },
    {
      "cell_type": "code",
      "source": [
        "modelos"
      ],
      "metadata": {
        "colab": {
          "base_uri": "https://localhost:8080/"
        },
        "id": "ANOOh34tFhWt",
        "outputId": "560a1ebe-e209-4f91-8788-03742dd9a420"
      },
      "execution_count": 44,
      "outputs": [
        {
          "output_type": "execute_result",
          "data": {
            "text/plain": [
              "['2.0 flash', '2.5 pro', '2.5 flash']"
            ]
          },
          "metadata": {},
          "execution_count": 44
        }
      ]
    }
  ]
}